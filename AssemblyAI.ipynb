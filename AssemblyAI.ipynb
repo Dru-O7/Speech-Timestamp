{
  "cells": [
    {
      "cell_type": "markdown",
      "metadata": {
        "id": "586z69135BKd"
      },
      "source": [
        "# **Importing AssemblyAI**"
      ]
    },
    {
      "cell_type": "code",
      "execution_count": null,
      "metadata": {
        "collapsed": true,
        "id": "BIALW2tz4lx9"
      },
      "outputs": [],
      "source": [
        "!pip install assemblyai"
      ]
    },
    {
      "cell_type": "markdown",
      "metadata": {
        "id": "KW1dAYvX48Qr"
      },
      "source": [
        "# **Transcript And Timestamp**"
      ]
    },
    {
      "cell_type": "code",
      "execution_count": 14,
      "metadata": {
        "colab": {
          "base_uri": "https://localhost:8080/"
        },
        "id": "4oFnctTr4tfJ",
        "outputId": "ad2a1933-8c6d-45da-9b73-031703d0fa20"
      },
      "outputs": [
        {
          "name": "stdout",
          "output_type": "stream",
          "text": [
            "हेलो हेलो भाई भेज नही आपने भाई थोड़ा बताओ भाई ये जो तुम्हारी विशाल मेगा मार्ट के आसपास 22 नंबर गली चौक चलते सीधे 22 नंबर गली है जी के पहले चौक है वही को भी पहले चौक पर कॉर्नर प्रेस वाला के सामने की दुकान भी है और जो थोड़ा और आगे चला थोड़ा और आगे चले जाओ दूसरा चौक पड़ेगा उधर 1 प्रेस वाला उधर खड़ा होगा भाई उधर ही है अब सीधे सीधे चले जाओ भाई भाई 40 95 मेरी बाइक का नंबर है बोल 41 95 40 95 बाइक का नंबर है मेरे सिलेंडर ठीक है ठीक है ठीक।\n",
            "Found 'आपने' 1 times in the transcript.\n",
            "Occurrence of 'आपने' - Start: 5.72s\n",
            "Found 'तुम्हारी' 1 times in the transcript.\n",
            "Occurrence of 'तुम्हारी' - Start: 13.02s\n",
            "'hello' not found.\n",
            "Found 'हेलो' 2 times in the transcript.\n",
            "Occurrence of 'हेलो' - Start: 1.40s\n",
            "Occurrence of 'हेलो' - Start: 3.62s\n",
            "Found '40 95' 2 times in the transcript.\n"
          ]
        }
      ],
      "source": [
        "import assemblyai as aai\n",
        "\n",
        "aai.settings.api_key = \"\"\n",
        "\n",
        "audio_url = \"\"\n",
        "\n",
        "config = aai.TranscriptionConfig(\n",
        "    speaker_labels=True,\n",
        "    language_code='hi'\n",
        ")\n",
        "\n",
        "transcriber = aai.Transcriber()\n",
        "\n",
        "transcript = transcriber.transcribe(audio_url, config)\n",
        "\n",
        "print(transcript.text)\n",
        "\n",
        "search_words = ['आपने', 'तुम्हारी', 'hello','हेलो','40 95']\n",
        "\n",
        "if hasattr(transcript, 'words') and transcript.words:\n",
        "    matches = transcript.word_search(search_words)\n",
        "    found_words = {match.text: match.count for match in matches}\n",
        "\n",
        "    for word in search_words:\n",
        "        if word in found_words:\n",
        "            print(f\"Found '{word}' {found_words[word]} times in the transcript.\")\n",
        "            for word_info in transcript.words:\n",
        "                if word_info.text == word:\n",
        "                    start_seconds = word_info.start / 1000.0\n",
        "                    print(f\"Occurrence of '{word}' - Start: {start_seconds:.2f}s\")\n",
        "        else:\n",
        "            print(f\"'{word}' not found.\")\n",
        "else:\n",
        "    print(\"Transcription failed or no words found in the transcript.\")\n"
      ]
    },
    {
      "cell_type": "markdown",
      "metadata": {
        "id": "glG7OocLFo_I"
      },
      "source": [
        "# **Transcript using Whisper Large V3**"
      ]
    },
    {
      "cell_type": "code",
      "execution_count": 30,
      "metadata": {
        "id": "8DCED7pyP_M1"
      },
      "outputs": [],
      "source": [
        "result=\"अब अब अलो अलो अब बजा नहीं आ रहा था भाई तो भाई तो मेरा खड़ा है वहां पर आप किस तरफ पर आप थोड़ा बताओगे भाई यह जो तुम्हारी विशाल मेगामार्ट के आसपास बाइस नंबर गली है ना सीधे आदमे किलासपुरी चोक से चलते सीधे आदमे बाइस नंबर गली है अंदर जाकर पहले चोक वहीं पर कोरनर पर प्रेस वाला भी है पहले चोक पर कोरनर पर जाकर पहले चोक वहीं पर कोनर पर प्रेस वाला भी है पहले चोक पर इन कोरनर पर प्रेस वाला आपके सामने पर्शून की दुकान दिया और जो प्रेस वाला नहीं वह नहीं थोड़ा एक और आगे चला थोड़ा और आगे चले जाओ एक दूसरा चोक पड़ेगा उधर भी एक प्रेस वाला उधर खड़ा होगा वह आई उधर है घर आप सीधे-सीधे चले जाओ बाई बाई चालिस पिचानवे बाईक का नमबर है बोल दो माँ इक चालिस पिचानवे चालिस पिचानवे बाईक का नमबर है मेरी स्लिंडर ठीक है ठीक है ठीक\""
      ]
    },
    {
      "cell_type": "markdown",
      "metadata": {
        "id": "639eb1kj42Dz"
      },
      "source": [
        "# **Text Sentiment**"
      ]
    },
    {
      "cell_type": "code",
      "execution_count": 56,
      "metadata": {
        "colab": {
          "base_uri": "https://localhost:8080/"
        },
        "id": "AbqqbAJT1Zav",
        "outputId": "90bd9b0b-4053-445e-d877-36c01d320173"
      },
      "outputs": [
        {
          "name": "stdout",
          "output_type": "stream",
          "text": [
            "{'word': 'जी', 'start': 5.519999980926514, 'end': 5.519999980926514}\n"
          ]
        }
      ],
      "source": [
        "from openai import OpenAI\n",
        "OPENAI_API_KEY = \"\"\n",
        "client = OpenAI(api_key=OPENAI_API_KEY)\n",
        "audio_file = open(\"\", \"rb\")\n",
        "transcript = client.audio.transcriptions.create(\n",
        "  file=audio_file,\n",
        "  model=\"whisper-1\",\n",
        "  response_format=\"verbose_json\",\n",
        "  timestamp_granularities=[\"word\"]\n",
        ")\n",
        "\n",
        "print(transcript.words[3])"
      ]
    },
    {
      "cell_type": "code",
      "execution_count": 52,
      "metadata": {
        "colab": {
          "base_uri": "https://localhost:8080/"
        },
        "id": "jr7lR8a_40d7",
        "outputId": "145ed770-ac71-47a3-cd19-3b8e08f380e8"
      },
      "outputs": [
        {
          "name": "stdout",
          "output_type": "stream",
          "text": [
            "Predicted Sentiment: positive\n"
          ]
        }
      ],
      "source": [
        "import joblib\n",
        "from nltk.tokenize import word_tokenize\n",
        "import nltk\n",
        "# nltk.download('punkt')\n",
        "\n",
        "classifier = joblib.load('svm_classifier.joblib')\n",
        "vectorizer = joblib.load('tfidf_vectorizer.joblib')\n",
        "\n",
        "def preprocess_text(text):\n",
        "    tokens = word_tokenize(text)\n",
        "    tokens = [word for word in tokens if word.isalpha()]\n",
        "    preprocessed_text = ' '.join(tokens)\n",
        "    return preprocessed_text\n",
        "\n",
        "def predict_sentiment(text):\n",
        "    preprocessed_text = preprocess_text(text)\n",
        "    text_tfidf = vectorizer.transform([preprocessed_text])\n",
        "    prediction = classifier.predict(text_tfidf)[0]\n",
        "    return prediction\n",
        "\n",
        "input_text = transcription.text # or transcript.text for assemblyAI and result for WhisperAI\n",
        "predicted_sentiment = predict_sentiment(input_text)\n",
        "print(f\"Predicted Sentiment: {predicted_sentiment}\")\n"
      ]
    },
    {
      "cell_type": "code",
      "execution_count": 34,
      "metadata": {
        "colab": {
          "base_uri": "https://localhost:8080/"
        },
        "id": "7wNTrxo31uC-",
        "outputId": "65171bd1-d347-4d02-a654-8cdd9d6643d0"
      },
      "outputs": [
        {
          "name": "stdout",
          "output_type": "stream",
          "text": [
            "Collecting openai\n",
            "  Downloading openai-1.35.5-py3-none-any.whl (327 kB)\n",
            "\u001b[2K     \u001b[90m━━━━━━━━━━━━━━━━━━━━━━━━━━━━━━━━━━━━━━━━\u001b[0m \u001b[32m327.5/327.5 kB\u001b[0m \u001b[31m5.0 MB/s\u001b[0m eta \u001b[36m0:00:00\u001b[0m\n",
            "\u001b[?25hRequirement already satisfied: anyio<5,>=3.5.0 in /usr/local/lib/python3.10/dist-packages (from openai) (3.7.1)\n",
            "Requirement already satisfied: distro<2,>=1.7.0 in /usr/lib/python3/dist-packages (from openai) (1.7.0)\n",
            "Requirement already satisfied: httpx<1,>=0.23.0 in /usr/local/lib/python3.10/dist-packages (from openai) (0.27.0)\n",
            "Requirement already satisfied: pydantic<3,>=1.9.0 in /usr/local/lib/python3.10/dist-packages (from openai) (2.7.4)\n",
            "Requirement already satisfied: sniffio in /usr/local/lib/python3.10/dist-packages (from openai) (1.3.1)\n",
            "Requirement already satisfied: tqdm>4 in /usr/local/lib/python3.10/dist-packages (from openai) (4.66.4)\n",
            "Requirement already satisfied: typing-extensions<5,>=4.7 in /usr/local/lib/python3.10/dist-packages (from openai) (4.12.2)\n",
            "Requirement already satisfied: idna>=2.8 in /usr/local/lib/python3.10/dist-packages (from anyio<5,>=3.5.0->openai) (3.7)\n",
            "Requirement already satisfied: exceptiongroup in /usr/local/lib/python3.10/dist-packages (from anyio<5,>=3.5.0->openai) (1.2.1)\n",
            "Requirement already satisfied: certifi in /usr/local/lib/python3.10/dist-packages (from httpx<1,>=0.23.0->openai) (2024.6.2)\n",
            "Requirement already satisfied: httpcore==1.* in /usr/local/lib/python3.10/dist-packages (from httpx<1,>=0.23.0->openai) (1.0.5)\n",
            "Requirement already satisfied: h11<0.15,>=0.13 in /usr/local/lib/python3.10/dist-packages (from httpcore==1.*->httpx<1,>=0.23.0->openai) (0.14.0)\n",
            "Requirement already satisfied: annotated-types>=0.4.0 in /usr/local/lib/python3.10/dist-packages (from pydantic<3,>=1.9.0->openai) (0.7.0)\n",
            "Requirement already satisfied: pydantic-core==2.18.4 in /usr/local/lib/python3.10/dist-packages (from pydantic<3,>=1.9.0->openai) (2.18.4)\n",
            "Installing collected packages: openai\n",
            "Successfully installed openai-1.35.5\n"
          ]
        }
      ],
      "source": [
        "!pip install openai\n"
      ]
    }
  ],
  "metadata": {
    "colab": {
      "provenance": []
    },
    "kernelspec": {
      "display_name": "Python 3",
      "name": "python3"
    },
    "language_info": {
      "name": "python"
    }
  },
  "nbformat": 4,
  "nbformat_minor": 0
}
